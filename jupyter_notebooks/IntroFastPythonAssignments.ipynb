{
 "cells": [
  {
   "cell_type": "markdown",
   "metadata": {},
   "source": [
    "**Autor:** Andrej Gajdoš  <br> \n",
    "_[Ústav matematických vied](https://www.upjs.sk/prirodovedecka-fakulta/ustav/umv/), [Prírodovedecká fakulta](https://www.upjs.sk/prirodovedecka-fakulta/), Univerzita Pavla Jozefa Šafárika v Košiciach,_ <br> \n",
    "email: [andrej.gajdos@upjs.sk](mailto:andrej.gajdos@upjs.sk)\n",
    "*** \n",
    "\n",
    "**_Tento materiál vznikol za podpory grantu VVGS-2022-2412._**\n",
    "\n",
    "***\n",
    "\n",
    "**<font size=6 color=gold> Introduction to fast Python - assignments</font>**  "
   ]
  },
  {
   "cell_type": "code",
   "execution_count": 1,
   "metadata": {},
   "outputs": [],
   "source": [
    "import os\n",
    "import numpy as np\n",
    "from numba import jit, njit, vectorize, cuda, prange, double, autojit\n",
    "# import numba as nb\n",
    "import math "
   ]
  },
  {
   "cell_type": "markdown",
   "metadata": {},
   "source": [
    "---\n",
    "\n",
    "**1. Employing the Numba and Cython create the function which returns the $n$-th [Fibonacci number](https://en.wikipedia.org/wiki/Fibonacci_number).**"
   ]
  },
  {
   "cell_type": "code",
   "execution_count": null,
   "metadata": {},
   "outputs": [],
   "source": []
  },
  {
   "cell_type": "markdown",
   "metadata": {},
   "source": [
    "---\n",
    "\n",
    "**2. Implement the well-known sorting algorithm called [bubble sort](https://en.wikipedia.org/wiki/Bubble_sort) using Numba and Cython.**"
   ]
  },
  {
   "cell_type": "code",
   "execution_count": null,
   "metadata": {},
   "outputs": [],
   "source": []
  },
  {
   "cell_type": "markdown",
   "metadata": {},
   "source": [
    "---\n",
    "\n",
    "**3. Write the function which checks and returns all the primes that are less or equal to a given number. Compare a pure Python code with Cython and Numba upgrades.**"
   ]
  },
  {
   "cell_type": "code",
   "execution_count": null,
   "metadata": {},
   "outputs": [],
   "source": []
  },
  {
   "cell_type": "markdown",
   "metadata": {},
   "source": [
    "***\n",
    "<a id=references></a>\n",
    "# <font color=brown> References</font>"
   ]
  },
  {
   "cell_type": "markdown",
   "metadata": {},
   "source": [
    "* Doglio, F. (2015). Mastering Python High Performance. Packt Publishing. \n",
    "\n",
    "\n",
    "* Herron, P. (2016). Learning Cython Programming. Packt Publishing Ltd. \n",
    "\n",
    "\n",
    "* Rossant, C. (2018). IPython Interactive Computing and Visualization Cookbook. Packt Publishing. \n",
    "\n",
    "\n",
    "* Slatkin, B. (2019). Effective Python: 90 Specific Ways to Write Better Python. Addison Wesley. \n",
    "\n",
    "\n",
    "* Smith, W., K. (2015). Cython. O'Reilly Media, Inc. "
   ]
  },
  {
   "cell_type": "markdown",
   "metadata": {},
   "source": [
    "* This tutorial was created with the help of official [Numba tutorial](http://numba.pydata.org/numba-doc/latest/user/talks.html), [Cython tutorial](https://cython.readthedocs.io/en/latest/src/tutorial/) and also thanks to [https://hackernoon.com/](https://hackernoon.com/), [Puneet Grover](https://towardsdatascience.com/speed-up-your-algorithms-part-2-numba-293e554c5cc1), [Christoph Deil](https://christophdeil.com/), [Jake VanderPlas](http://jakevdp.github.io/), [Sebastian Raschka](https://sebastianraschka.com/)."
   ]
  }
 ],
 "metadata": {
  "kernelspec": {
   "display_name": "Python 3 (ipykernel)",
   "language": "python",
   "name": "python3"
  },
  "language_info": {
   "codemirror_mode": {
    "name": "ipython",
    "version": 3
   },
   "file_extension": ".py",
   "mimetype": "text/x-python",
   "name": "python",
   "nbconvert_exporter": "python",
   "pygments_lexer": "ipython3",
   "version": "3.9.13"
  },
  "varInspector": {
   "cols": {
    "lenName": 16,
    "lenType": 16,
    "lenVar": 40
   },
   "kernels_config": {
    "python": {
     "delete_cmd_postfix": "",
     "delete_cmd_prefix": "del ",
     "library": "var_list.py",
     "varRefreshCmd": "print(var_dic_list())"
    },
    "r": {
     "delete_cmd_postfix": ") ",
     "delete_cmd_prefix": "rm(",
     "library": "var_list.r",
     "varRefreshCmd": "cat(var_dic_list()) "
    }
   },
   "types_to_exclude": [
    "module",
    "function",
    "builtin_function_or_method",
    "instance",
    "_Feature"
   ],
   "window_display": false
  }
 },
 "nbformat": 4,
 "nbformat_minor": 2
}
